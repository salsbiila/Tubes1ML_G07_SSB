version https://git-lfs.github.com/spec/v1
oid sha256:2de75ef86a4cab4d3a46cdf3260a114821ba752df80b1a85b9017139f859c1b0
size 44408741
