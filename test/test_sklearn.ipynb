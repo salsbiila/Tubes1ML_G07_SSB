version https://git-lfs.github.com/spec/v1
oid sha256:7ec89dc43f314700ad5450482568d8ebfe070603bfdc7c5f2aba75d8cf4ad47b
size 7483230
