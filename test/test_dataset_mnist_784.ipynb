version https://git-lfs.github.com/spec/v1
oid sha256:7958acb53fc3e712e8036a5ce9e44176c4ced1a681750c2ab3e651f27be6552d
size 7113103
